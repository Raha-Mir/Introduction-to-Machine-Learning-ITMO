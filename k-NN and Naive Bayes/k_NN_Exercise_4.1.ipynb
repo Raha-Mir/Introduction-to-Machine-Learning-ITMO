{
  "nbformat": 4,
  "nbformat_minor": 0,
  "metadata": {
    "colab": {
      "provenance": []
    },
    "kernelspec": {
      "name": "python3",
      "display_name": "Python 3"
    },
    "language_info": {
      "name": "python"
    }
  },
  "cells": [
    {
      "cell_type": "markdown",
      "source": [
        "# Task\n",
        "In problems, use the implementation of the k-nn method from the sklearn library:\n",
        "\n",
        "`from sklearn.neighbors import KNeighborsClassifier`\n",
        "\n",
        "The parameters that may be needed are: `n_neighbors` - the number of neighbors; `p `is a parameter in the Minkowski distance (`p = 1` corresponds to the Manhattan distance, `p = 2` corresponds to the Euclidean one).\n",
        "\n",
        "[Full description of the k-nn method from the sklearn library.](https://scikit-learn.org/stable/modules/generated/sklearn.neighbors.KNeighborsClassifier.html)"
      ],
      "metadata": {
        "id": "hdcVAKk8XW9F"
      }
    },
    {
      "cell_type": "markdown",
      "source": [
        "A table of some synthetic data is given. You must classify the new object using the k-nearest neighbor method.\n",
        "\n",
        "\n",
        "| id | X  | Y  | Class |\n",
        "| -- | -- | -- | ----- |\n",
        "| 1  | 56 | 70 | 1     |\n",
        "| 2  | 71 | 46 | 0     |\n",
        "| 3  | 63 | 39 | 0     |\n",
        "| 4  | 67 | 10 | 1     |\n",
        "| 5  | 62 | 94 | 0     |\n",
        "| 6  | 43 | 40 | 0     |\n",
        "| 7  | 91 | 38 | 0     |\n",
        "| 8  | 11 | 47 | 1     |\n",
        "| 9  | 48 | 52 | 1     |\n",
        "| 10 | 95 | 28 | 1     |\n"
      ],
      "metadata": {
        "id": "fILw7dqHYdt4"
      }
    },
    {
      "cell_type": "markdown",
      "source": [
        "Below, the table data is presented in a row format (you can save it as a CSV file using any text editor, or paste it into Azure ML Studio using Enter Data Manually item):\n",
        "\n",
        "id,X,Y,Class\n",
        "\n",
        "1,56,70,1\n",
        "\n",
        "2,71,46,0\n",
        "\n",
        "3,63,39,0\n",
        "\n",
        "4,67,10,1\n",
        "\n",
        "5,62,94,0\n",
        "\n",
        "6,43,40,0\n",
        "\n",
        "7,91,38,0\n",
        "\n",
        "8,11,47,1\n",
        "\n",
        "9,48,52,1\n",
        "\n",
        "10,95,28,1\n"
      ],
      "metadata": {
        "id": "dgvCr292YMvy"
      }
    },
    {
      "cell_type": "code",
      "source": [
        "import numpy as np\n",
        "\n",
        "# Feature coordinates\n",
        "X = [56, 71, 63, 67, 62, 43, 91, 11, 48, 95]\n",
        "Y = [70, 46, 39, 10, 94, 40, 38, 47, 52, 28]\n",
        "\n",
        "# Combine X and Y into points\n",
        "points = list(zip(X, Y))\n",
        "\n",
        "# Corresponding classes\n",
        "Class = [1, 0, 0, 1, 0, 0, 0, 1, 1, 1]"
      ],
      "metadata": {
        "id": "Zuq6TPLoZPxT"
      },
      "execution_count": 2,
      "outputs": []
    },
    {
      "cell_type": "markdown",
      "source": [
        "> Enter the distance from the new object with coordinates $(38,49)$  to the nearest neighbor using the Euclidean metric.\n"
      ],
      "metadata": {
        "id": "95QOf-SEY88Q"
      }
    },
    {
      "cell_type": "code",
      "source": [
        "def distanceEv(x, y):\n",
        "    return np.sqrt((x[0]-y[0])**2 + (x[1]-y[1])**2)"
      ],
      "metadata": {
        "id": "J9H2-C3WaChB"
      },
      "execution_count": 6,
      "outputs": []
    },
    {
      "cell_type": "code",
      "source": [
        "new = [38, 49]\n",
        "r = 10000\n",
        "ind = 0\n",
        "dist = {}\n",
        "for i in range(len(points)):\n",
        "    r1 = distanceEv(new, points[i])\n",
        "    dist[i+1] = round(r1, 3)\n",
        "    if r > r1:\n",
        "        r = r1\n",
        "        ind = i\n",
        "print(f'Distance- Using the Euclidean metric  (38, 49):  r={round(r,3)}')"
      ],
      "metadata": {
        "colab": {
          "base_uri": "https://localhost:8080/"
        },
        "id": "yIDUbQxtaEuH",
        "outputId": "51e04057-2536-4073-9763-6b81d8c68dfa"
      },
      "execution_count": 12,
      "outputs": [
        {
          "output_type": "stream",
          "name": "stdout",
          "text": [
            "Distance- Using the Euclidean metric  (38, 49):  r=10.296\n"
          ]
        }
      ]
    },
    {
      "cell_type": "markdown",
      "source": [
        "> Enter the distance from the new object with coordinates (38,49)\n",
        " to the nearest neighbor using the Manhattan distance."
      ],
      "metadata": {
        "id": "fhqIBwJa88QT"
      }
    },
    {
      "cell_type": "code",
      "source": [
        "def distanceMan(x, y):\n",
        "    return np.abs(x[0]-y[0]) + np.abs(x[1]-y[1])"
      ],
      "metadata": {
        "id": "LIpzGR4l8I4z"
      },
      "execution_count": 7,
      "outputs": []
    },
    {
      "cell_type": "code",
      "source": [
        "new = [38, 49]\n",
        "r = 10000\n",
        "ind = 0\n",
        "dist = {}\n",
        "for i in range(len(points)):\n",
        "    r1 = distanceMan(new, points[i])\n",
        "    dist[i+1] = round(r1, 3)\n",
        "    if r > r1:\n",
        "        r = r1\n",
        "        ind = i\n",
        "print(f'Distance- Using the Manhattan distance (38, 49):  r={round(r,3)}')"
      ],
      "metadata": {
        "colab": {
          "base_uri": "https://localhost:8080/"
        },
        "id": "ZWzzNRPybIXt",
        "outputId": "5c6892a5-b94c-42fb-c7e0-d147a4e3920b"
      },
      "execution_count": 13,
      "outputs": [
        {
          "output_type": "stream",
          "name": "stdout",
          "text": [
            "Distance- Using the Manhattan distance (38, 49):  r=13\n"
          ]
        }
      ]
    }
  ]
}