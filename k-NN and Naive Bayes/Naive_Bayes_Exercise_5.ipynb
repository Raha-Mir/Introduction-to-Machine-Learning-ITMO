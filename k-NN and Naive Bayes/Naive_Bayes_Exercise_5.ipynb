{
  "nbformat": 4,
  "nbformat_minor": 0,
  "metadata": {
    "colab": {
      "provenance": []
    },
    "kernelspec": {
      "name": "python3",
      "display_name": "Python 3"
    },
    "language_info": {
      "name": "python"
    }
  },
  "cells": [
    {
      "cell_type": "markdown",
      "source": [
        "Table contains data about the classification of emails into SPAM and HAM and the total number of words included in these groups:\n",
        "\n",
        "|            | SPAM | HAM |\n",
        "| ---------- | ---- | --- |\n",
        "| **Emails** | 13   | 29  |\n",
        "| **Words**  | 85   | 182 |\n"
      ],
      "metadata": {
        "id": "7GKNrxUdSSvJ"
      }
    },
    {
      "cell_type": "markdown",
      "source": [
        "Second table shows data about unique words and number of their occurrences in the aforementioned groups:\n",
        "\n",
        "| **Word**   | **SPAM** | **HAM** |\n",
        "| ---------- | -------- | ------- |\n",
        "| Offer      | 1        | 18      |\n",
        "| Prize      | 1        | 12      |\n",
        "| Purchase   | 2        | 12      |\n",
        "| Bonus      | 6        | 6       |\n",
        "| Membership | 3        | 17      |\n",
        "| Bill       | 4        | 5       |\n",
        "| Access     | 1        | 1       |\n",
        "| Coupon     | 12       | 21      |\n",
        "| Gift       | 12       | 76      |\n",
        "| Investment | 43       | 14      |\n"
      ],
      "metadata": {
        "id": "NCg5cEdiStaJ"
      }
    },
    {
      "cell_type": "code",
      "source": [],
      "metadata": {
        "id": "286ZDwTfgEUA"
      },
      "execution_count": null,
      "outputs": []
    },
    {
      "cell_type": "markdown",
      "source": [
        "Identify the most probable class of the email containing the following text:\n",
        "\n",
        " **Online Gift Bonus Coupon Membership Bill Million**\n",
        "\n",
        "\n",
        "> Specify the probability that the email is SPAM based on the training set:"
      ],
      "metadata": {
        "id": "FpX5EFfIS5xG"
      }
    },
    {
      "cell_type": "code",
      "source": [
        "from numpy import log, exp"
      ],
      "metadata": {
        "id": "ILX8TSe5UXyO"
      },
      "execution_count": 2,
      "outputs": []
    },
    {
      "cell_type": "code",
      "execution_count": 1,
      "metadata": {
        "colab": {
          "base_uri": "https://localhost:8080/"
        },
        "id": "Gkfwybr2R42c",
        "outputId": "8e9fda94-4e01-4916-85fb-af045c18ef92"
      },
      "outputs": [
        {
          "output_type": "execute_result",
          "data": {
            "text/plain": [
              "0.31"
            ]
          },
          "metadata": {},
          "execution_count": 1
        }
      ],
      "source": [
        "email_spam = 13\n",
        "email_no_spam = 29\n",
        "\n",
        "P_spam = email_spam/(email_spam + email_no_spam)\n",
        "round(P_spam, 3)"
      ]
    },
    {
      "cell_type": "markdown",
      "source": [
        "> Calculate F(spam):"
      ],
      "metadata": {
        "id": "IvQ-7E3NUJ8S"
      }
    },
    {
      "cell_type": "code",
      "source": [
        "def probability(count, y):\n",
        "    words_spam = 85\n",
        "    words_no_spam = 182\n",
        "\n",
        "    if y == 1: # spam\n",
        "        return (1 + count)/(10 + 2 + words_spam)\n",
        "    elif y == 0: # no spam\n",
        "        return  (1 + count)/(10 + 2 + words_no_spam)\n",
        "\n",
        "F_spam = log(P_spam) + log(probability(12, 1)) + log(probability(6, 1)) + log(probability(12, 1)) + log(probability(3, 1)) + log(probability(4, 1))\n",
        "F_spam += 2*log(probability(0, 1))\n",
        "round(F_spam,3)"
      ],
      "metadata": {
        "colab": {
          "base_uri": "https://localhost:8080/"
        },
        "id": "wlJ1MEoxULZ8",
        "outputId": "6a265e00-d083-4302-9d83-6016cfad3918"
      },
      "execution_count": 9,
      "outputs": [
        {
          "output_type": "execute_result",
          "data": {
            "text/plain": [
              "np.float64(-23.124)"
            ]
          },
          "metadata": {},
          "execution_count": 9
        }
      ]
    },
    {
      "cell_type": "markdown",
      "source": [
        "> Calculate F(ham):"
      ],
      "metadata": {
        "id": "fvCdYzybY1U-"
      }
    },
    {
      "cell_type": "code",
      "source": [
        "P_ham = email_no_spam/(email_spam + email_no_spam)\n",
        "\n",
        "F_ham = log(P_ham) + log(probability(76, 0)) + log(probability(21, 0)) + log(probability(6, 0)) + log(probability(17, 0)) + log(probability(5, 0))\n",
        "F_ham += 2*log(probability(0, 0))\n",
        "round(F_ham, 3)"
      ],
      "metadata": {
        "colab": {
          "base_uri": "https://localhost:8080/"
        },
        "id": "3nbYLBHhY3j6",
        "outputId": "32901aa7-ebd0-46b6-ef49-9ff2654633c6"
      },
      "execution_count": 10,
      "outputs": [
        {
          "output_type": "execute_result",
          "data": {
            "text/plain": [
              "np.float64(-23.182)"
            ]
          },
          "metadata": {},
          "execution_count": 10
        }
      ]
    },
    {
      "cell_type": "markdown",
      "source": [
        "> Specify the probability *P(Class = Yes | Email)* that the email **Online Gift Bonus Coupon Membership Bill Million** is SPAM."
      ],
      "metadata": {
        "id": "hcXWaahCfX3I"
      }
    },
    {
      "cell_type": "code",
      "source": [
        "P_email_spam = 1 / (1 + exp(-F_spam + F_ham))\n",
        "round(P_email_spam, 3)"
      ],
      "metadata": {
        "colab": {
          "base_uri": "https://localhost:8080/"
        },
        "id": "uXGa1wK1fg84",
        "outputId": "5c435e51-8eba-4185-fbbe-f5de40d16b25"
      },
      "execution_count": 11,
      "outputs": [
        {
          "output_type": "execute_result",
          "data": {
            "text/plain": [
              "np.float64(0.515)"
            ]
          },
          "metadata": {},
          "execution_count": 11
        }
      ]
    }
  ]
}