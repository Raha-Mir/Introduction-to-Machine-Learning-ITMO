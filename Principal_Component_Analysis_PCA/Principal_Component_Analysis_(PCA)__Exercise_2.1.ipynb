{
  "cells": [
    {
      "cell_type": "markdown",
      "id": "56e54c8c",
      "metadata": {
        "id": "56e54c8c"
      },
      "source": [
        "### In the [the file](https://storage.yandexcloud.net/lms-itmo-ru-files-27a87tyf/machine_learning/task2/task2.1/data/66_16.csv) there is a set of synthetic data. The data describes 60 objects, each of which has 10 features. Your task is to switch to the new coordinates using the principal components method and find the following parameters."
      ]
    },
    {
      "cell_type": "markdown",
      "id": "b7f0127f",
      "metadata": {
        "id": "b7f0127f"
      },
      "source": [
        "\n",
        "> Enter the coordinate of the first object with respect to the first principal component:\n",
        "\n",
        "> Enter the coordinate of the first object with respect to the second principal component:\n"
      ]
    },
    {
      "cell_type": "markdown",
      "id": "41085f2f",
      "metadata": {
        "id": "41085f2f"
      },
      "source": [
        "##### 0. Import necessary libraries"
      ]
    },
    {
      "cell_type": "code",
      "execution_count": 1,
      "id": "e8d8e95b",
      "metadata": {
        "id": "e8d8e95b"
      },
      "outputs": [],
      "source": [
        "import numpy as np\n",
        "import pandas as pd\n",
        "from sklearn.decomposition import PCA\n",
        "import matplotlib.pyplot as plt"
      ]
    },
    {
      "cell_type": "markdown",
      "id": "072cf2b5",
      "metadata": {
        "id": "072cf2b5"
      },
      "source": [
        "##### 1. Load the Data"
      ]
    },
    {
      "cell_type": "code",
      "execution_count": 2,
      "id": "5c6049c0",
      "metadata": {
        "colab": {
          "base_uri": "https://localhost:8080/",
          "height": 206
        },
        "id": "5c6049c0",
        "outputId": "42ca1c06-89e3-414b-9122-4b6078843fa2"
      },
      "outputs": [
        {
          "output_type": "execute_result",
          "data": {
            "text/plain": [
              "           0          1          2          3          4          5  \\\n",
              "0 -18.760648 -16.947337  -5.113519   9.640007 -15.131418 -13.176784   \n",
              "1 -17.631096 -19.820593  -4.454293   9.472988 -14.985504 -12.840418   \n",
              "2 -23.422658  16.187413  -9.693314 -24.553554   6.888665  22.679111   \n",
              "3 -20.945721  15.541144  -6.863941 -25.780044   9.016722  20.413783   \n",
              "4 -10.482212 -26.231238 -16.789358  20.042900 -21.210618  -4.860438   \n",
              "\n",
              "           6          7          8          9  \n",
              "0  13.114778  -0.153631  -2.218653  -1.556670  \n",
              "1  11.089504   4.987311  -1.082840  -0.596177  \n",
              "2   1.597002   1.348615   7.100830   5.247621  \n",
              "3   2.762732   0.171296   6.907661   5.582567  \n",
              "4 -17.591560 -20.684578 -21.799205 -20.775966  "
            ],
            "text/html": [
              "\n",
              "  <div id=\"df-f311247b-a5fa-4d68-8ca2-f3c490db9368\" class=\"colab-df-container\">\n",
              "    <div>\n",
              "<style scoped>\n",
              "    .dataframe tbody tr th:only-of-type {\n",
              "        vertical-align: middle;\n",
              "    }\n",
              "\n",
              "    .dataframe tbody tr th {\n",
              "        vertical-align: top;\n",
              "    }\n",
              "\n",
              "    .dataframe thead th {\n",
              "        text-align: right;\n",
              "    }\n",
              "</style>\n",
              "<table border=\"1\" class=\"dataframe\">\n",
              "  <thead>\n",
              "    <tr style=\"text-align: right;\">\n",
              "      <th></th>\n",
              "      <th>0</th>\n",
              "      <th>1</th>\n",
              "      <th>2</th>\n",
              "      <th>3</th>\n",
              "      <th>4</th>\n",
              "      <th>5</th>\n",
              "      <th>6</th>\n",
              "      <th>7</th>\n",
              "      <th>8</th>\n",
              "      <th>9</th>\n",
              "    </tr>\n",
              "  </thead>\n",
              "  <tbody>\n",
              "    <tr>\n",
              "      <th>0</th>\n",
              "      <td>-18.760648</td>\n",
              "      <td>-16.947337</td>\n",
              "      <td>-5.113519</td>\n",
              "      <td>9.640007</td>\n",
              "      <td>-15.131418</td>\n",
              "      <td>-13.176784</td>\n",
              "      <td>13.114778</td>\n",
              "      <td>-0.153631</td>\n",
              "      <td>-2.218653</td>\n",
              "      <td>-1.556670</td>\n",
              "    </tr>\n",
              "    <tr>\n",
              "      <th>1</th>\n",
              "      <td>-17.631096</td>\n",
              "      <td>-19.820593</td>\n",
              "      <td>-4.454293</td>\n",
              "      <td>9.472988</td>\n",
              "      <td>-14.985504</td>\n",
              "      <td>-12.840418</td>\n",
              "      <td>11.089504</td>\n",
              "      <td>4.987311</td>\n",
              "      <td>-1.082840</td>\n",
              "      <td>-0.596177</td>\n",
              "    </tr>\n",
              "    <tr>\n",
              "      <th>2</th>\n",
              "      <td>-23.422658</td>\n",
              "      <td>16.187413</td>\n",
              "      <td>-9.693314</td>\n",
              "      <td>-24.553554</td>\n",
              "      <td>6.888665</td>\n",
              "      <td>22.679111</td>\n",
              "      <td>1.597002</td>\n",
              "      <td>1.348615</td>\n",
              "      <td>7.100830</td>\n",
              "      <td>5.247621</td>\n",
              "    </tr>\n",
              "    <tr>\n",
              "      <th>3</th>\n",
              "      <td>-20.945721</td>\n",
              "      <td>15.541144</td>\n",
              "      <td>-6.863941</td>\n",
              "      <td>-25.780044</td>\n",
              "      <td>9.016722</td>\n",
              "      <td>20.413783</td>\n",
              "      <td>2.762732</td>\n",
              "      <td>0.171296</td>\n",
              "      <td>6.907661</td>\n",
              "      <td>5.582567</td>\n",
              "    </tr>\n",
              "    <tr>\n",
              "      <th>4</th>\n",
              "      <td>-10.482212</td>\n",
              "      <td>-26.231238</td>\n",
              "      <td>-16.789358</td>\n",
              "      <td>20.042900</td>\n",
              "      <td>-21.210618</td>\n",
              "      <td>-4.860438</td>\n",
              "      <td>-17.591560</td>\n",
              "      <td>-20.684578</td>\n",
              "      <td>-21.799205</td>\n",
              "      <td>-20.775966</td>\n",
              "    </tr>\n",
              "  </tbody>\n",
              "</table>\n",
              "</div>\n",
              "    <div class=\"colab-df-buttons\">\n",
              "\n",
              "  <div class=\"colab-df-container\">\n",
              "    <button class=\"colab-df-convert\" onclick=\"convertToInteractive('df-f311247b-a5fa-4d68-8ca2-f3c490db9368')\"\n",
              "            title=\"Convert this dataframe to an interactive table.\"\n",
              "            style=\"display:none;\">\n",
              "\n",
              "  <svg xmlns=\"http://www.w3.org/2000/svg\" height=\"24px\" viewBox=\"0 -960 960 960\">\n",
              "    <path d=\"M120-120v-720h720v720H120Zm60-500h600v-160H180v160Zm220 220h160v-160H400v160Zm0 220h160v-160H400v160ZM180-400h160v-160H180v160Zm440 0h160v-160H620v160ZM180-180h160v-160H180v160Zm440 0h160v-160H620v160Z\"/>\n",
              "  </svg>\n",
              "    </button>\n",
              "\n",
              "  <style>\n",
              "    .colab-df-container {\n",
              "      display:flex;\n",
              "      gap: 12px;\n",
              "    }\n",
              "\n",
              "    .colab-df-convert {\n",
              "      background-color: #E8F0FE;\n",
              "      border: none;\n",
              "      border-radius: 50%;\n",
              "      cursor: pointer;\n",
              "      display: none;\n",
              "      fill: #1967D2;\n",
              "      height: 32px;\n",
              "      padding: 0 0 0 0;\n",
              "      width: 32px;\n",
              "    }\n",
              "\n",
              "    .colab-df-convert:hover {\n",
              "      background-color: #E2EBFA;\n",
              "      box-shadow: 0px 1px 2px rgba(60, 64, 67, 0.3), 0px 1px 3px 1px rgba(60, 64, 67, 0.15);\n",
              "      fill: #174EA6;\n",
              "    }\n",
              "\n",
              "    .colab-df-buttons div {\n",
              "      margin-bottom: 4px;\n",
              "    }\n",
              "\n",
              "    [theme=dark] .colab-df-convert {\n",
              "      background-color: #3B4455;\n",
              "      fill: #D2E3FC;\n",
              "    }\n",
              "\n",
              "    [theme=dark] .colab-df-convert:hover {\n",
              "      background-color: #434B5C;\n",
              "      box-shadow: 0px 1px 3px 1px rgba(0, 0, 0, 0.15);\n",
              "      filter: drop-shadow(0px 1px 2px rgba(0, 0, 0, 0.3));\n",
              "      fill: #FFFFFF;\n",
              "    }\n",
              "  </style>\n",
              "\n",
              "    <script>\n",
              "      const buttonEl =\n",
              "        document.querySelector('#df-f311247b-a5fa-4d68-8ca2-f3c490db9368 button.colab-df-convert');\n",
              "      buttonEl.style.display =\n",
              "        google.colab.kernel.accessAllowed ? 'block' : 'none';\n",
              "\n",
              "      async function convertToInteractive(key) {\n",
              "        const element = document.querySelector('#df-f311247b-a5fa-4d68-8ca2-f3c490db9368');\n",
              "        const dataTable =\n",
              "          await google.colab.kernel.invokeFunction('convertToInteractive',\n",
              "                                                    [key], {});\n",
              "        if (!dataTable) return;\n",
              "\n",
              "        const docLinkHtml = 'Like what you see? Visit the ' +\n",
              "          '<a target=\"_blank\" href=https://colab.research.google.com/notebooks/data_table.ipynb>data table notebook</a>'\n",
              "          + ' to learn more about interactive tables.';\n",
              "        element.innerHTML = '';\n",
              "        dataTable['output_type'] = 'display_data';\n",
              "        await google.colab.output.renderOutput(dataTable, element);\n",
              "        const docLink = document.createElement('div');\n",
              "        docLink.innerHTML = docLinkHtml;\n",
              "        element.appendChild(docLink);\n",
              "      }\n",
              "    </script>\n",
              "  </div>\n",
              "\n",
              "\n",
              "    <div id=\"df-b5162251-3003-4e8d-9737-bbea9e059878\">\n",
              "      <button class=\"colab-df-quickchart\" onclick=\"quickchart('df-b5162251-3003-4e8d-9737-bbea9e059878')\"\n",
              "                title=\"Suggest charts\"\n",
              "                style=\"display:none;\">\n",
              "\n",
              "<svg xmlns=\"http://www.w3.org/2000/svg\" height=\"24px\"viewBox=\"0 0 24 24\"\n",
              "     width=\"24px\">\n",
              "    <g>\n",
              "        <path d=\"M19 3H5c-1.1 0-2 .9-2 2v14c0 1.1.9 2 2 2h14c1.1 0 2-.9 2-2V5c0-1.1-.9-2-2-2zM9 17H7v-7h2v7zm4 0h-2V7h2v10zm4 0h-2v-4h2v4z\"/>\n",
              "    </g>\n",
              "</svg>\n",
              "      </button>\n",
              "\n",
              "<style>\n",
              "  .colab-df-quickchart {\n",
              "      --bg-color: #E8F0FE;\n",
              "      --fill-color: #1967D2;\n",
              "      --hover-bg-color: #E2EBFA;\n",
              "      --hover-fill-color: #174EA6;\n",
              "      --disabled-fill-color: #AAA;\n",
              "      --disabled-bg-color: #DDD;\n",
              "  }\n",
              "\n",
              "  [theme=dark] .colab-df-quickchart {\n",
              "      --bg-color: #3B4455;\n",
              "      --fill-color: #D2E3FC;\n",
              "      --hover-bg-color: #434B5C;\n",
              "      --hover-fill-color: #FFFFFF;\n",
              "      --disabled-bg-color: #3B4455;\n",
              "      --disabled-fill-color: #666;\n",
              "  }\n",
              "\n",
              "  .colab-df-quickchart {\n",
              "    background-color: var(--bg-color);\n",
              "    border: none;\n",
              "    border-radius: 50%;\n",
              "    cursor: pointer;\n",
              "    display: none;\n",
              "    fill: var(--fill-color);\n",
              "    height: 32px;\n",
              "    padding: 0;\n",
              "    width: 32px;\n",
              "  }\n",
              "\n",
              "  .colab-df-quickchart:hover {\n",
              "    background-color: var(--hover-bg-color);\n",
              "    box-shadow: 0 1px 2px rgba(60, 64, 67, 0.3), 0 1px 3px 1px rgba(60, 64, 67, 0.15);\n",
              "    fill: var(--button-hover-fill-color);\n",
              "  }\n",
              "\n",
              "  .colab-df-quickchart-complete:disabled,\n",
              "  .colab-df-quickchart-complete:disabled:hover {\n",
              "    background-color: var(--disabled-bg-color);\n",
              "    fill: var(--disabled-fill-color);\n",
              "    box-shadow: none;\n",
              "  }\n",
              "\n",
              "  .colab-df-spinner {\n",
              "    border: 2px solid var(--fill-color);\n",
              "    border-color: transparent;\n",
              "    border-bottom-color: var(--fill-color);\n",
              "    animation:\n",
              "      spin 1s steps(1) infinite;\n",
              "  }\n",
              "\n",
              "  @keyframes spin {\n",
              "    0% {\n",
              "      border-color: transparent;\n",
              "      border-bottom-color: var(--fill-color);\n",
              "      border-left-color: var(--fill-color);\n",
              "    }\n",
              "    20% {\n",
              "      border-color: transparent;\n",
              "      border-left-color: var(--fill-color);\n",
              "      border-top-color: var(--fill-color);\n",
              "    }\n",
              "    30% {\n",
              "      border-color: transparent;\n",
              "      border-left-color: var(--fill-color);\n",
              "      border-top-color: var(--fill-color);\n",
              "      border-right-color: var(--fill-color);\n",
              "    }\n",
              "    40% {\n",
              "      border-color: transparent;\n",
              "      border-right-color: var(--fill-color);\n",
              "      border-top-color: var(--fill-color);\n",
              "    }\n",
              "    60% {\n",
              "      border-color: transparent;\n",
              "      border-right-color: var(--fill-color);\n",
              "    }\n",
              "    80% {\n",
              "      border-color: transparent;\n",
              "      border-right-color: var(--fill-color);\n",
              "      border-bottom-color: var(--fill-color);\n",
              "    }\n",
              "    90% {\n",
              "      border-color: transparent;\n",
              "      border-bottom-color: var(--fill-color);\n",
              "    }\n",
              "  }\n",
              "</style>\n",
              "\n",
              "      <script>\n",
              "        async function quickchart(key) {\n",
              "          const quickchartButtonEl =\n",
              "            document.querySelector('#' + key + ' button');\n",
              "          quickchartButtonEl.disabled = true;  // To prevent multiple clicks.\n",
              "          quickchartButtonEl.classList.add('colab-df-spinner');\n",
              "          try {\n",
              "            const charts = await google.colab.kernel.invokeFunction(\n",
              "                'suggestCharts', [key], {});\n",
              "          } catch (error) {\n",
              "            console.error('Error during call to suggestCharts:', error);\n",
              "          }\n",
              "          quickchartButtonEl.classList.remove('colab-df-spinner');\n",
              "          quickchartButtonEl.classList.add('colab-df-quickchart-complete');\n",
              "        }\n",
              "        (() => {\n",
              "          let quickchartButtonEl =\n",
              "            document.querySelector('#df-b5162251-3003-4e8d-9737-bbea9e059878 button');\n",
              "          quickchartButtonEl.style.display =\n",
              "            google.colab.kernel.accessAllowed ? 'block' : 'none';\n",
              "        })();\n",
              "      </script>\n",
              "    </div>\n",
              "\n",
              "    </div>\n",
              "  </div>\n"
            ],
            "application/vnd.google.colaboratory.intrinsic+json": {
              "type": "dataframe",
              "variable_name": "data",
              "summary": "{\n  \"name\": \"data\",\n  \"rows\": 60,\n  \"fields\": [\n    {\n      \"column\": 0,\n      \"properties\": {\n        \"dtype\": \"number\",\n        \"std\": 6.285918388971704,\n        \"min\": -25.74845733790599,\n        \"max\": -3.7458546474754306,\n        \"num_unique_values\": 60,\n        \"samples\": [\n          -18.760647950843367,\n          -23.466243826863447,\n          -18.774686461611267\n        ],\n        \"semantic_type\": \"\",\n        \"description\": \"\"\n      }\n    },\n    {\n      \"column\": 1,\n      \"properties\": {\n        \"dtype\": \"number\",\n        \"std\": 18.10243625111331,\n        \"min\": -26.231238443660395,\n        \"max\": 17.280983069750313,\n        \"num_unique_values\": 60,\n        \"samples\": [\n          -16.947337475989627,\n          13.481805637548192,\n          16.550776110908792\n        ],\n        \"semantic_type\": \"\",\n        \"description\": \"\"\n      }\n    },\n    {\n      \"column\": 2,\n      \"properties\": {\n        \"dtype\": \"number\",\n        \"std\": 6.2942911576323946,\n        \"min\": -25.0926799738327,\n        \"max\": -4.454292769042218,\n        \"num_unique_values\": 60,\n        \"samples\": [\n          -5.113519477199551,\n          -22.54469227145556,\n          -7.9278986526659185\n        ],\n        \"semantic_type\": \"\",\n        \"description\": \"\"\n      }\n    },\n    {\n      \"column\": 3,\n      \"properties\": {\n        \"dtype\": \"number\",\n        \"std\": 16.093544218869127,\n        \"min\": -25.78004365750759,\n        \"max\": 21.46244467908,\n        \"num_unique_values\": 60,\n        \"samples\": [\n          9.640007138962215,\n          -3.226358895302594,\n          -21.902773670240272\n        ],\n        \"semantic_type\": \"\",\n        \"description\": \"\"\n      }\n    },\n    {\n      \"column\": 4,\n      \"properties\": {\n        \"dtype\": \"number\",\n        \"std\": 17.986252825852347,\n        \"min\": -23.783973551354432,\n        \"max\": 24.857378001476327,\n        \"num_unique_values\": 60,\n        \"samples\": [\n          -15.131417601953428,\n          22.02236355846803,\n          7.389236342515441\n        ],\n        \"semantic_type\": \"\",\n        \"description\": \"\"\n      }\n    },\n    {\n      \"column\": 5,\n      \"properties\": {\n        \"dtype\": \"number\",\n        \"std\": 14.258949771794189,\n        \"min\": -16.682852393763323,\n        \"max\": 22.842020816733935,\n        \"num_unique_values\": 60,\n        \"samples\": [\n          -13.176783724513076,\n          -15.057598423877439,\n          21.56746120705716\n        ],\n        \"semantic_type\": \"\",\n        \"description\": \"\"\n      }\n    },\n    {\n      \"column\": 6,\n      \"properties\": {\n        \"dtype\": \"number\",\n        \"std\": 12.16062054354759,\n        \"min\": -22.605973678162208,\n        \"max\": 14.788595060309085,\n        \"num_unique_values\": 60,\n        \"samples\": [\n          13.114778293287374,\n          -7.6933469630611855,\n          -0.31829659333137617\n        ],\n        \"semantic_type\": \"\",\n        \"description\": \"\"\n      }\n    },\n    {\n      \"column\": 7,\n      \"properties\": {\n        \"dtype\": \"number\",\n        \"std\": 12.474152301194206,\n        \"min\": -25.785634679109982,\n        \"max\": 6.214315505198472,\n        \"num_unique_values\": 60,\n        \"samples\": [\n          -0.15363064316930153,\n          -23.30642594225766,\n          3.1674721778056742\n        ],\n        \"semantic_type\": \"\",\n        \"description\": \"\"\n      }\n    },\n    {\n      \"column\": 8,\n      \"properties\": {\n        \"dtype\": \"number\",\n        \"std\": 10.977814416134292,\n        \"min\": -23.68523814864872,\n        \"max\": 10.486810455004775,\n        \"num_unique_values\": 60,\n        \"samples\": [\n          -2.2186526684187657,\n          -9.071468301151306,\n          4.361396362024162\n        ],\n        \"semantic_type\": \"\",\n        \"description\": \"\"\n      }\n    },\n    {\n      \"column\": 9,\n      \"properties\": {\n        \"dtype\": \"number\",\n        \"std\": 11.07023746817363,\n        \"min\": -22.12324399318024,\n        \"max\": 9.052790341649521,\n        \"num_unique_values\": 60,\n        \"samples\": [\n          -1.556670331123138,\n          -14.310296330232056,\n          6.434630748485128\n        ],\n        \"semantic_type\": \"\",\n        \"description\": \"\"\n      }\n    }\n  ]\n}"
            }
          },
          "metadata": {},
          "execution_count": 2
        }
      ],
      "source": [
        "data = pd.read_csv('https://storage.yandexcloud.net/lms-itmo-ru-files-27a87tyf/machine_learning/task2/task2.1/data/66_16.csv', encoding = 'utf-8', delimiter=',', header=None)\n",
        "data.head() # Display the first 5 rows of the result"
      ]
    },
    {
      "cell_type": "markdown",
      "id": "025b73ac",
      "metadata": {
        "id": "025b73ac"
      },
      "source": [
        "##### 2. Perform PCA to reduce data to 2 principal components"
      ]
    },
    {
      "cell_type": "code",
      "execution_count": 3,
      "id": "ec710ba4",
      "metadata": {
        "id": "ec710ba4"
      },
      "outputs": [],
      "source": [
        "pca = PCA(n_components=2, svd_solver='full').fit_transform(data)"
      ]
    },
    {
      "cell_type": "markdown",
      "id": "ce9e3589",
      "metadata": {
        "id": "ce9e3589"
      },
      "source": [
        "##### 3. store the transformed data in a DataFrame"
      ]
    },
    {
      "cell_type": "code",
      "execution_count": 4,
      "id": "ef0a1a90",
      "metadata": {
        "colab": {
          "base_uri": "https://localhost:8080/",
          "height": 206
        },
        "id": "ef0a1a90",
        "outputId": "8ad77981-e8be-4baa-d6c2-14fcfd7e1bd4"
      },
      "outputs": [
        {
          "output_type": "execute_result",
          "data": {
            "text/plain": [
              "         PC1        PC2\n",
              "0 -13.667246  23.964783\n",
              "1 -14.052254  27.595600\n",
              "2  43.831416  12.236114\n",
              "3  44.071577  11.758556\n",
              "4 -43.504137  -4.301499"
            ],
            "text/html": [
              "\n",
              "  <div id=\"df-e6ffc94e-bafc-4aa5-bbfa-343663b36bbb\" class=\"colab-df-container\">\n",
              "    <div>\n",
              "<style scoped>\n",
              "    .dataframe tbody tr th:only-of-type {\n",
              "        vertical-align: middle;\n",
              "    }\n",
              "\n",
              "    .dataframe tbody tr th {\n",
              "        vertical-align: top;\n",
              "    }\n",
              "\n",
              "    .dataframe thead th {\n",
              "        text-align: right;\n",
              "    }\n",
              "</style>\n",
              "<table border=\"1\" class=\"dataframe\">\n",
              "  <thead>\n",
              "    <tr style=\"text-align: right;\">\n",
              "      <th></th>\n",
              "      <th>PC1</th>\n",
              "      <th>PC2</th>\n",
              "    </tr>\n",
              "  </thead>\n",
              "  <tbody>\n",
              "    <tr>\n",
              "      <th>0</th>\n",
              "      <td>-13.667246</td>\n",
              "      <td>23.964783</td>\n",
              "    </tr>\n",
              "    <tr>\n",
              "      <th>1</th>\n",
              "      <td>-14.052254</td>\n",
              "      <td>27.595600</td>\n",
              "    </tr>\n",
              "    <tr>\n",
              "      <th>2</th>\n",
              "      <td>43.831416</td>\n",
              "      <td>12.236114</td>\n",
              "    </tr>\n",
              "    <tr>\n",
              "      <th>3</th>\n",
              "      <td>44.071577</td>\n",
              "      <td>11.758556</td>\n",
              "    </tr>\n",
              "    <tr>\n",
              "      <th>4</th>\n",
              "      <td>-43.504137</td>\n",
              "      <td>-4.301499</td>\n",
              "    </tr>\n",
              "  </tbody>\n",
              "</table>\n",
              "</div>\n",
              "    <div class=\"colab-df-buttons\">\n",
              "\n",
              "  <div class=\"colab-df-container\">\n",
              "    <button class=\"colab-df-convert\" onclick=\"convertToInteractive('df-e6ffc94e-bafc-4aa5-bbfa-343663b36bbb')\"\n",
              "            title=\"Convert this dataframe to an interactive table.\"\n",
              "            style=\"display:none;\">\n",
              "\n",
              "  <svg xmlns=\"http://www.w3.org/2000/svg\" height=\"24px\" viewBox=\"0 -960 960 960\">\n",
              "    <path d=\"M120-120v-720h720v720H120Zm60-500h600v-160H180v160Zm220 220h160v-160H400v160Zm0 220h160v-160H400v160ZM180-400h160v-160H180v160Zm440 0h160v-160H620v160ZM180-180h160v-160H180v160Zm440 0h160v-160H620v160Z\"/>\n",
              "  </svg>\n",
              "    </button>\n",
              "\n",
              "  <style>\n",
              "    .colab-df-container {\n",
              "      display:flex;\n",
              "      gap: 12px;\n",
              "    }\n",
              "\n",
              "    .colab-df-convert {\n",
              "      background-color: #E8F0FE;\n",
              "      border: none;\n",
              "      border-radius: 50%;\n",
              "      cursor: pointer;\n",
              "      display: none;\n",
              "      fill: #1967D2;\n",
              "      height: 32px;\n",
              "      padding: 0 0 0 0;\n",
              "      width: 32px;\n",
              "    }\n",
              "\n",
              "    .colab-df-convert:hover {\n",
              "      background-color: #E2EBFA;\n",
              "      box-shadow: 0px 1px 2px rgba(60, 64, 67, 0.3), 0px 1px 3px 1px rgba(60, 64, 67, 0.15);\n",
              "      fill: #174EA6;\n",
              "    }\n",
              "\n",
              "    .colab-df-buttons div {\n",
              "      margin-bottom: 4px;\n",
              "    }\n",
              "\n",
              "    [theme=dark] .colab-df-convert {\n",
              "      background-color: #3B4455;\n",
              "      fill: #D2E3FC;\n",
              "    }\n",
              "\n",
              "    [theme=dark] .colab-df-convert:hover {\n",
              "      background-color: #434B5C;\n",
              "      box-shadow: 0px 1px 3px 1px rgba(0, 0, 0, 0.15);\n",
              "      filter: drop-shadow(0px 1px 2px rgba(0, 0, 0, 0.3));\n",
              "      fill: #FFFFFF;\n",
              "    }\n",
              "  </style>\n",
              "\n",
              "    <script>\n",
              "      const buttonEl =\n",
              "        document.querySelector('#df-e6ffc94e-bafc-4aa5-bbfa-343663b36bbb button.colab-df-convert');\n",
              "      buttonEl.style.display =\n",
              "        google.colab.kernel.accessAllowed ? 'block' : 'none';\n",
              "\n",
              "      async function convertToInteractive(key) {\n",
              "        const element = document.querySelector('#df-e6ffc94e-bafc-4aa5-bbfa-343663b36bbb');\n",
              "        const dataTable =\n",
              "          await google.colab.kernel.invokeFunction('convertToInteractive',\n",
              "                                                    [key], {});\n",
              "        if (!dataTable) return;\n",
              "\n",
              "        const docLinkHtml = 'Like what you see? Visit the ' +\n",
              "          '<a target=\"_blank\" href=https://colab.research.google.com/notebooks/data_table.ipynb>data table notebook</a>'\n",
              "          + ' to learn more about interactive tables.';\n",
              "        element.innerHTML = '';\n",
              "        dataTable['output_type'] = 'display_data';\n",
              "        await google.colab.output.renderOutput(dataTable, element);\n",
              "        const docLink = document.createElement('div');\n",
              "        docLink.innerHTML = docLinkHtml;\n",
              "        element.appendChild(docLink);\n",
              "      }\n",
              "    </script>\n",
              "  </div>\n",
              "\n",
              "\n",
              "    <div id=\"df-70dae5e2-66d0-403a-b2c4-6429605c3e12\">\n",
              "      <button class=\"colab-df-quickchart\" onclick=\"quickchart('df-70dae5e2-66d0-403a-b2c4-6429605c3e12')\"\n",
              "                title=\"Suggest charts\"\n",
              "                style=\"display:none;\">\n",
              "\n",
              "<svg xmlns=\"http://www.w3.org/2000/svg\" height=\"24px\"viewBox=\"0 0 24 24\"\n",
              "     width=\"24px\">\n",
              "    <g>\n",
              "        <path d=\"M19 3H5c-1.1 0-2 .9-2 2v14c0 1.1.9 2 2 2h14c1.1 0 2-.9 2-2V5c0-1.1-.9-2-2-2zM9 17H7v-7h2v7zm4 0h-2V7h2v10zm4 0h-2v-4h2v4z\"/>\n",
              "    </g>\n",
              "</svg>\n",
              "      </button>\n",
              "\n",
              "<style>\n",
              "  .colab-df-quickchart {\n",
              "      --bg-color: #E8F0FE;\n",
              "      --fill-color: #1967D2;\n",
              "      --hover-bg-color: #E2EBFA;\n",
              "      --hover-fill-color: #174EA6;\n",
              "      --disabled-fill-color: #AAA;\n",
              "      --disabled-bg-color: #DDD;\n",
              "  }\n",
              "\n",
              "  [theme=dark] .colab-df-quickchart {\n",
              "      --bg-color: #3B4455;\n",
              "      --fill-color: #D2E3FC;\n",
              "      --hover-bg-color: #434B5C;\n",
              "      --hover-fill-color: #FFFFFF;\n",
              "      --disabled-bg-color: #3B4455;\n",
              "      --disabled-fill-color: #666;\n",
              "  }\n",
              "\n",
              "  .colab-df-quickchart {\n",
              "    background-color: var(--bg-color);\n",
              "    border: none;\n",
              "    border-radius: 50%;\n",
              "    cursor: pointer;\n",
              "    display: none;\n",
              "    fill: var(--fill-color);\n",
              "    height: 32px;\n",
              "    padding: 0;\n",
              "    width: 32px;\n",
              "  }\n",
              "\n",
              "  .colab-df-quickchart:hover {\n",
              "    background-color: var(--hover-bg-color);\n",
              "    box-shadow: 0 1px 2px rgba(60, 64, 67, 0.3), 0 1px 3px 1px rgba(60, 64, 67, 0.15);\n",
              "    fill: var(--button-hover-fill-color);\n",
              "  }\n",
              "\n",
              "  .colab-df-quickchart-complete:disabled,\n",
              "  .colab-df-quickchart-complete:disabled:hover {\n",
              "    background-color: var(--disabled-bg-color);\n",
              "    fill: var(--disabled-fill-color);\n",
              "    box-shadow: none;\n",
              "  }\n",
              "\n",
              "  .colab-df-spinner {\n",
              "    border: 2px solid var(--fill-color);\n",
              "    border-color: transparent;\n",
              "    border-bottom-color: var(--fill-color);\n",
              "    animation:\n",
              "      spin 1s steps(1) infinite;\n",
              "  }\n",
              "\n",
              "  @keyframes spin {\n",
              "    0% {\n",
              "      border-color: transparent;\n",
              "      border-bottom-color: var(--fill-color);\n",
              "      border-left-color: var(--fill-color);\n",
              "    }\n",
              "    20% {\n",
              "      border-color: transparent;\n",
              "      border-left-color: var(--fill-color);\n",
              "      border-top-color: var(--fill-color);\n",
              "    }\n",
              "    30% {\n",
              "      border-color: transparent;\n",
              "      border-left-color: var(--fill-color);\n",
              "      border-top-color: var(--fill-color);\n",
              "      border-right-color: var(--fill-color);\n",
              "    }\n",
              "    40% {\n",
              "      border-color: transparent;\n",
              "      border-right-color: var(--fill-color);\n",
              "      border-top-color: var(--fill-color);\n",
              "    }\n",
              "    60% {\n",
              "      border-color: transparent;\n",
              "      border-right-color: var(--fill-color);\n",
              "    }\n",
              "    80% {\n",
              "      border-color: transparent;\n",
              "      border-right-color: var(--fill-color);\n",
              "      border-bottom-color: var(--fill-color);\n",
              "    }\n",
              "    90% {\n",
              "      border-color: transparent;\n",
              "      border-bottom-color: var(--fill-color);\n",
              "    }\n",
              "  }\n",
              "</style>\n",
              "\n",
              "      <script>\n",
              "        async function quickchart(key) {\n",
              "          const quickchartButtonEl =\n",
              "            document.querySelector('#' + key + ' button');\n",
              "          quickchartButtonEl.disabled = true;  // To prevent multiple clicks.\n",
              "          quickchartButtonEl.classList.add('colab-df-spinner');\n",
              "          try {\n",
              "            const charts = await google.colab.kernel.invokeFunction(\n",
              "                'suggestCharts', [key], {});\n",
              "          } catch (error) {\n",
              "            console.error('Error during call to suggestCharts:', error);\n",
              "          }\n",
              "          quickchartButtonEl.classList.remove('colab-df-spinner');\n",
              "          quickchartButtonEl.classList.add('colab-df-quickchart-complete');\n",
              "        }\n",
              "        (() => {\n",
              "          let quickchartButtonEl =\n",
              "            document.querySelector('#df-70dae5e2-66d0-403a-b2c4-6429605c3e12 button');\n",
              "          quickchartButtonEl.style.display =\n",
              "            google.colab.kernel.accessAllowed ? 'block' : 'none';\n",
              "        })();\n",
              "      </script>\n",
              "    </div>\n",
              "\n",
              "    </div>\n",
              "  </div>\n"
            ],
            "application/vnd.google.colaboratory.intrinsic+json": {
              "type": "dataframe",
              "variable_name": "scores_df",
              "summary": "{\n  \"name\": \"scores_df\",\n  \"rows\": 60,\n  \"fields\": [\n    {\n      \"column\": \"PC1\",\n      \"properties\": {\n        \"dtype\": \"number\",\n        \"std\": 32.184393495975385,\n        \"min\": -44.082573715976814,\n        \"max\": 46.59943785081577,\n        \"num_unique_values\": 60,\n        \"samples\": [\n          -13.667245760195021,\n          12.62841869865618,\n          41.44705593820155\n        ],\n        \"semantic_type\": \"\",\n        \"description\": \"\"\n      }\n    },\n    {\n      \"column\": \"PC2\",\n      \"properties\": {\n        \"dtype\": \"number\",\n        \"std\": 22.478121595948696,\n        \"min\": -36.95424188393972,\n        \"max\": 28.2987274435302,\n        \"num_unique_values\": 60,\n        \"samples\": [\n          23.9647834829268,\n          -32.913969574639324,\n          12.218027653033383\n        ],\n        \"semantic_type\": \"\",\n        \"description\": \"\"\n      }\n    }\n  ]\n}"
            }
          },
          "metadata": {},
          "execution_count": 4
        }
      ],
      "source": [
        "scores_df = pd.DataFrame(pca, columns=['PC1', 'PC2']) # Create DataFrame with principal components\n",
        "scores_df.head() # Display the first 5 rows of the result"
      ]
    },
    {
      "cell_type": "code",
      "execution_count": 5,
      "id": "aa2012c3",
      "metadata": {
        "colab": {
          "base_uri": "https://localhost:8080/"
        },
        "id": "aa2012c3",
        "outputId": "947a8410-c0f4-4a2e-89b5-6e6a62d81ece"
      },
      "outputs": [
        {
          "output_type": "stream",
          "name": "stdout",
          "text": [
            "The coordinate of the first object with respect to the first principal component: -13.667\n"
          ]
        }
      ],
      "source": [
        "print(f'The coordinate of the first object with respect to the first principal component: {round(scores_df[\"PC1\"][0],3)}')"
      ]
    },
    {
      "cell_type": "code",
      "execution_count": 6,
      "id": "6d81a773",
      "metadata": {
        "colab": {
          "base_uri": "https://localhost:8080/"
        },
        "id": "6d81a773",
        "outputId": "4a966fb5-9713-46da-f7cd-dd288c943144"
      },
      "outputs": [
        {
          "output_type": "stream",
          "name": "stdout",
          "text": [
            "The coordinate of the first object with respect to the second principal component: 23.965\n"
          ]
        }
      ],
      "source": [
        "print(f'The coordinate of the first object with respect to the second principal component: {round(scores_df[\"PC2\"][0],3)}')"
      ]
    },
    {
      "cell_type": "markdown",
      "id": "ce715e17",
      "metadata": {
        "id": "ce715e17"
      },
      "source": [
        "\n",
        "> Enter the fraction of variance explained (first and second components):\n"
      ]
    },
    {
      "cell_type": "code",
      "execution_count": 7,
      "id": "a19556e1",
      "metadata": {
        "colab": {
          "base_uri": "https://localhost:8080/"
        },
        "id": "a19556e1",
        "outputId": "398f5e07-a8d6-4d0f-85d6-d8fe204ed53f"
      },
      "outputs": [
        {
          "output_type": "stream",
          "name": "stdout",
          "text": [
            "The fraction of variance explained when the first and the second principal components are used: 0.886\n"
          ]
        }
      ],
      "source": [
        "pca2 = PCA(n_components=2, svd_solver='full').fit(data)\n",
        "print(f'The fraction of variance explained when the first and the second principal components are used: {round(sum(pca2.explained_variance_ratio_), 3)}' )"
      ]
    },
    {
      "cell_type": "markdown",
      "id": "7414c8cd",
      "metadata": {
        "id": "7414c8cd"
      },
      "source": [
        "\n",
        "> Minimal number of components for variance > 0.85:"
      ]
    },
    {
      "cell_type": "code",
      "execution_count": 8,
      "id": "a7fb6238",
      "metadata": {
        "colab": {
          "base_uri": "https://localhost:8080/"
        },
        "id": "a7fb6238",
        "outputId": "aa7d5dbf-8fef-4618-b0f1-e0773bc8b5bc"
      },
      "outputs": [
        {
          "output_type": "stream",
          "name": "stdout",
          "text": [
            "The minimal number of principal components for variance > 0.85: 2\n"
          ]
        }
      ],
      "source": [
        "n = 2\n",
        "while round(sum(pca2.explained_variance_ratio_), 3) < 0.85:\n",
        "    pca = PCA(n_components=3, svd_solver='full').fit(data)\n",
        "    n += 1\n",
        "\n",
        "print(f'The minimal number of principal components for variance > 0.85: {n}')"
      ]
    },
    {
      "cell_type": "markdown",
      "id": "0a3a0b3f",
      "metadata": {
        "id": "0a3a0b3f"
      },
      "source": [
        "\n",
        "> Number of groups using first two components:"
      ]
    },
    {
      "cell_type": "code",
      "execution_count": 9,
      "id": "7fb2217d",
      "metadata": {
        "colab": {
          "base_uri": "https://localhost:8080/",
          "height": 430
        },
        "id": "7fb2217d",
        "outputId": "9bb46424-1a77-43b4-e798-5abecea1c8a3"
      },
      "outputs": [
        {
          "output_type": "display_data",
          "data": {
            "text/plain": [
              "<Figure size 640x480 with 1 Axes>"
            ],
            "image/png": "[encoded data removed]"
          },
          "metadata": {}
        }
      ],
      "source": [
        "plt.scatter(scores_df.PC1, scores_df.PC2)\n",
        "plt.show()"
      ]
    }
  ],
  "metadata": {
    "kernelspec": {
      "display_name": "Python 3",
      "language": "python",
      "name": "python3"
    },
    "language_info": {
      "codemirror_mode": {
        "name": "ipython",
        "version": 3
      },
      "file_extension": ".py",
      "mimetype": "text/x-python",
      "name": "python",
      "nbconvert_exporter": "python",
      "pygments_lexer": "ipython3",
      "version": "3.13.0"
    },
    "colab": {
      "provenance": []
    }
  },
  "nbformat": 4,
  "nbformat_minor": 5
}